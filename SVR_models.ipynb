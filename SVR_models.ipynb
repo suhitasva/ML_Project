{
 "cells": [
  {
   "cell_type": "markdown",
   "id": "64489d2f",
   "metadata": {},
   "source": [
    "# Ames, Iowa : Predicting Sales Prices - Support Vector Regression modeling"
   ]
  },
  {
   "cell_type": "code",
   "execution_count": 1,
   "id": "e8fa7216",
   "metadata": {},
   "outputs": [],
   "source": [
    "import pandas as pd\n",
    "import numpy as np\n",
    "import seaborn as sns\n",
    "import matplotlib.pyplot as plt\n",
    "from LR_helper import cat_column_combine_vars, num_new_features,\\\n",
    "label_encode_features, model_results, cat_new_features, std_num_cols\n",
    "from sklearn.model_selection import train_test_split\n",
    "from sklearn.model_selection import GridSearchCV\n",
    "from sklearn.preprocessing import StandardScaler,\\\n",
    "MinMaxScaler, MaxAbsScaler, FunctionTransformer, PowerTransformer\n",
    "from sklearn.svm import SVR\n",
    "plt.style.use('ggplot')\n",
    "import warnings\n",
    "warnings.filterwarnings(\"ignore\")"
   ]
  },
  {
   "cell_type": "markdown",
   "id": "ecf6a6f1",
   "metadata": {},
   "source": [
    "### Loading cleaned training and testing datasets:-"
   ]
  },
  {
   "cell_type": "code",
   "execution_count": 2,
   "id": "b1717754",
   "metadata": {},
   "outputs": [
    {
     "name": "stdout",
     "output_type": "stream",
     "text": [
      "(1453, 80)\n",
      "(1457, 79)\n"
     ]
    }
   ],
   "source": [
    "train_df = pd.read_csv(\"clean_train.csv\",index_col=0)\n",
    "test_df = pd.read_csv(\"clean_test.csv\",index_col=0)\n",
    "print(train_df.shape)\n",
    "print(test_df.shape)"
   ]
  },
  {
   "cell_type": "markdown",
   "id": "e4b225f8",
   "metadata": {},
   "source": [
    "### Creating new numerical variables, combining variables and creating new categorical variables:-"
   ]
  },
  {
   "cell_type": "code",
   "execution_count": 3,
   "id": "135b9eed",
   "metadata": {},
   "outputs": [],
   "source": [
    "# Creating new numerical variable features:-\n",
    "num_new_features(train_df)\n",
    "num_new_features(test_df)\n",
    "\n",
    "# Combining categories in some categorical features:-\n",
    "cat_column_combine_vars(train_df)\n",
    "cat_column_combine_vars(test_df)\n",
    "\n",
    "# Creating new categorical variable features:-\n",
    "cat_new_features(train_df)\n",
    "cat_new_features(test_df)"
   ]
  },
  {
   "cell_type": "code",
   "execution_count": 4,
   "id": "610c3c44",
   "metadata": {},
   "outputs": [
    {
     "name": "stdout",
     "output_type": "stream",
     "text": [
      "(1453, 88)\n",
      "(1457, 87)\n"
     ]
    }
   ],
   "source": [
    "print(train_df.shape)\n",
    "print(test_df.shape)"
   ]
  },
  {
   "cell_type": "markdown",
   "id": "9dfeeed7",
   "metadata": {},
   "source": [
    "### Dropping some features with high multi-collinearity"
   ]
  },
  {
   "cell_type": "code",
   "execution_count": 5,
   "id": "6fafdead",
   "metadata": {},
   "outputs": [],
   "source": [
    "train_df = train_df.drop(['RoofStyle','Exterior1st','Exterior2nd','GarageType',\\\n",
    "                          'HouseStyle', 'MSSubClass','MSZoning','MasVnrType'], axis=1)\n",
    "\n",
    "test_df = test_df.drop(['RoofStyle','Exterior1st','Exterior2nd','GarageType',\\\n",
    "                          'HouseStyle', 'MSSubClass','MSZoning','MasVnrType'], axis=1)"
   ]
  },
  {
   "cell_type": "markdown",
   "id": "9f2def59",
   "metadata": {},
   "source": [
    "### Label encoding categorical features (all dataframes):"
   ]
  },
  {
   "cell_type": "code",
   "execution_count": 6,
   "id": "53d5cfce",
   "metadata": {},
   "outputs": [],
   "source": [
    "#Label encoding via helper functions:-\n",
    "\n",
    "label_encode_features(train_df)\n",
    "label_encode_features(test_df)"
   ]
  },
  {
   "cell_type": "markdown",
   "id": "c2f52687",
   "metadata": {},
   "source": [
    "### OneHot encoding categorical features (all dataframes):"
   ]
  },
  {
   "cell_type": "code",
   "execution_count": 7,
   "id": "2defa4d2",
   "metadata": {},
   "outputs": [],
   "source": [
    "col_list = ['Street', 'Alley', 'LandContour','Condition1', 'Condition2',\\\n",
    "            'Utilities', 'LotConfig','Neighborhood', 'GarageYrBlt',\\\n",
    "            'BldgType', 'YearBuilt', 'YearRemodAdd', 'RoofMatl', 'Foundation',\\\n",
    "            'CentralAir','Heating', 'Electrical', 'Functional','YrSold',\\\n",
    "            'GarageFinish', 'PavedDrive', 'Fence', 'MiscFeature', 'MoSold', \\\n",
    "            'SaleType', 'SaleCondition','remod_y_n']\n",
    "\n",
    "train_df = pd.get_dummies(data=train_df, columns=col_list, drop_first=True)\n",
    "test_df = pd.get_dummies(data=test_df, columns=col_list, drop_first=True)"
   ]
  },
  {
   "cell_type": "markdown",
   "id": "90e57cdf",
   "metadata": {},
   "source": [
    "### Standardizing numerical columns:"
   ]
  },
  {
   "cell_type": "code",
   "execution_count": 8,
   "id": "3da5a46c",
   "metadata": {},
   "outputs": [],
   "source": [
    "std_num_cols(train_df)\n",
    "std_num_cols(test_df)"
   ]
  },
  {
   "cell_type": "markdown",
   "id": "d21cb837",
   "metadata": {},
   "source": [
    "## Support Vector Regression models:"
   ]
  },
  {
   "cell_type": "code",
   "execution_count": 9,
   "id": "ea60ac68",
   "metadata": {},
   "outputs": [],
   "source": [
    "## Separating x and y variables for test-train split (main df)\n",
    "\n",
    "house_x = train_df.drop(['SalePrice'], axis=1)\n",
    "house_y = train_df['SalePrice']\n",
    "\n",
    "# Train test 70:30 split\n",
    "\n",
    "trainX, testX, trainY, testY = train_test_split(house_x, house_y, random_state=42, test_size=0.3)"
   ]
  },
  {
   "cell_type": "markdown",
   "id": "248d1509",
   "metadata": {},
   "source": [
    "### 1) Base model"
   ]
  },
  {
   "cell_type": "code",
   "execution_count": 10,
   "id": "84f84c21",
   "metadata": {},
   "outputs": [
    {
     "name": "stdout",
     "output_type": "stream",
     "text": [
      "Train R^2 is equal to -0.050\n",
      "Test R^2 is equal to -0.032\n",
      "The intercept is 163999.661\n",
      "RSS is equal to 6520907840989.916\n",
      "Train RMSE is equal to 80074.374\n",
      "Test RMSE is equal to 74321.544\n",
      "The training error is: 1.04963\n",
      "The test     error is: 1.03183\n"
     ]
    },
    {
     "data": {
      "text/plain": [
       "[1.0496261339375368, 1.0318317777703294]"
      ]
     },
     "execution_count": 10,
     "metadata": {},
     "output_type": "execute_result"
    }
   ],
   "source": [
    "svr_base1 = SVR()\n",
    "model_results(trainX, trainY, testX, testY, svr_base1, show = True)"
   ]
  },
  {
   "cell_type": "code",
   "execution_count": 11,
   "id": "a3255e40",
   "metadata": {},
   "outputs": [
    {
     "name": "stdout",
     "output_type": "stream",
     "text": [
      "Train R^2 is equal to -0.050\n",
      "Test R^2 is equal to -0.032\n",
      "The intercept is 163990.000\n",
      "RSS is equal to 6522866629507.349\n",
      "Train RMSE is equal to 80086.400\n",
      "Test RMSE is equal to 74335.080\n",
      "The training error is: 1.04994\n",
      "The test     error is: 1.03221\n"
     ]
    },
    {
     "data": {
      "text/plain": [
       "[1.0499414267876872, 1.032207659752596]"
      ]
     },
     "execution_count": 11,
     "metadata": {},
     "output_type": "execute_result"
    }
   ],
   "source": [
    "svr_base2 = SVR(epsilon = 1e-4, gamma=1)\n",
    "model_results(trainX, trainY, testX, testY, svr_base2, show = True)"
   ]
  },
  {
   "cell_type": "markdown",
   "id": "15126f23",
   "metadata": {},
   "source": [
    "### 2. Log-transforming y variable only:"
   ]
  },
  {
   "cell_type": "code",
   "execution_count": 12,
   "id": "250c4113",
   "metadata": {},
   "outputs": [
    {
     "name": "stdout",
     "output_type": "stream",
     "text": [
      "Train R^2 is equal to 0.745\n",
      "Test R^2 is equal to 0.743\n",
      "The intercept is 12.335\n",
      "RSS is equal to 41.181\n",
      "Train RMSE is equal to 0.201\n",
      "Test RMSE is equal to 0.197\n",
      "The training error is: 0.25455\n",
      "The test     error is: 0.25691\n"
     ]
    },
    {
     "data": {
      "text/plain": [
       "[0.25454769339987093, 0.2569140854383618]"
      ]
     },
     "execution_count": 12,
     "metadata": {},
     "output_type": "execute_result"
    }
   ],
   "source": [
    "svr_logy1 = SVR()\n",
    "model_results(trainX, np.log(trainY), testX, np.log(testY), svr_logy1, show = True)"
   ]
  },
  {
   "cell_type": "code",
   "execution_count": 13,
   "id": "5d671c9c",
   "metadata": {},
   "outputs": [
    {
     "name": "stdout",
     "output_type": "stream",
     "text": [
      "Train R^2 is equal to 0.745\n",
      "Test R^2 is equal to 0.743\n",
      "The intercept is 12.335\n",
      "RSS is equal to 41.181\n",
      "Train RMSE is equal to 0.201\n",
      "Test RMSE is equal to 0.197\n",
      "The training error is: 0.25455\n",
      "The test     error is: 0.25691\n"
     ]
    },
    {
     "data": {
      "text/plain": [
       "[0.25454769339987093, 0.2569140854383618]"
      ]
     },
     "execution_count": 13,
     "metadata": {},
     "output_type": "execute_result"
    }
   ],
   "source": [
    "svr_logy2 = SVR(epsilon = 1e-4, gamma=1)\n",
    "model_results(trainX, np.log(trainY), testX, np.log(testY), svr_logy1, show = True)"
   ]
  },
  {
   "cell_type": "markdown",
   "id": "3e9e0f46",
   "metadata": {},
   "source": [
    "### 3. Log-transforming x and y variables:"
   ]
  },
  {
   "cell_type": "code",
   "execution_count": 14,
   "id": "34248452",
   "metadata": {},
   "outputs": [],
   "source": [
    "# Applying log-transformation on the x features\n",
    "\n",
    "trfm = FunctionTransformer(func=np.log1p)\n",
    "\n",
    "trainX_trans = trfm.fit_transform(trainX)\n",
    "testX_trans = trfm.fit_transform(testX)"
   ]
  },
  {
   "cell_type": "code",
   "execution_count": 15,
   "id": "9635be7c",
   "metadata": {},
   "outputs": [
    {
     "name": "stdout",
     "output_type": "stream",
     "text": [
      "Train R^2 is equal to 0.993\n",
      "Test R^2 is equal to 0.000\n",
      "The intercept is 12.029\n",
      "RSS is equal to 1.186\n",
      "Train RMSE is equal to 0.034\n",
      "Test RMSE is equal to 0.390\n",
      "The training error is: 0.00733\n",
      "The test     error is: 0.99991\n"
     ]
    },
    {
     "data": {
      "text/plain": [
       "[0.007333130880404104, 0.9999127903953443]"
      ]
     },
     "execution_count": 15,
     "metadata": {},
     "output_type": "execute_result"
    }
   ],
   "source": [
    "svr_log2 = SVR(epsilon = 1e-4, gamma=1)\n",
    "model_results(trainX_trans, np.log(trainY), testX_trans, np.log(testY), svr_log2, show = True)"
   ]
  },
  {
   "cell_type": "code",
   "execution_count": 16,
   "id": "598ccbc9",
   "metadata": {},
   "outputs": [
    {
     "name": "stdout",
     "output_type": "stream",
     "text": [
      "Train R^2 is equal to -0.003\n",
      "Test R^2 is equal to -0.000\n",
      "The intercept is 12.005\n",
      "RSS is equal to 162.283\n",
      "Train RMSE is equal to 0.399\n",
      "Test RMSE is equal to 0.390\n",
      "The training error is: 1.00310\n",
      "The test     error is: 1.00006\n"
     ]
    },
    {
     "data": {
      "text/plain": [
       "[1.003100618862202, 1.0000580205403984]"
      ]
     },
     "execution_count": 16,
     "metadata": {},
     "output_type": "execute_result"
    }
   ],
   "source": [
    "# Soft margin regressor\n",
    "\n",
    "svr_soft = SVR(epsilon=1, gamma=1, C=1e-4)\n",
    "model_results(trainX_trans, np.log(trainY), testX_trans, np.log(testY), svr_soft, show = True)"
   ]
  },
  {
   "cell_type": "code",
   "execution_count": 17,
   "id": "b54ecacf",
   "metadata": {},
   "outputs": [
    {
     "name": "stdout",
     "output_type": "stream",
     "text": [
      "Train R^2 is equal to 0.035\n",
      "Test R^2 is equal to -0.005\n",
      "The intercept is 11.981\n",
      "RSS is equal to 156.138\n",
      "Train RMSE is equal to 0.392\n",
      "Test RMSE is equal to 0.391\n",
      "The training error is: 0.96512\n",
      "The test     error is: 1.00506\n"
     ]
    },
    {
     "data": {
      "text/plain": [
       "[0.9651155359021625, 1.005064479114991]"
      ]
     },
     "execution_count": 17,
     "metadata": {},
     "output_type": "execute_result"
    }
   ],
   "source": [
    "# Hard margin regressor\n",
    "\n",
    "svr_hard = SVR(epsilon=1, gamma=1, C=1e4)\n",
    "model_results(trainX_trans, np.log(trainY), testX_trans, np.log(testY), svr_hard, show = True)"
   ]
  },
  {
   "cell_type": "code",
   "execution_count": 18,
   "id": "d7cefc8e",
   "metadata": {},
   "outputs": [
    {
     "name": "stdout",
     "output_type": "stream",
     "text": [
      "Train R^2 is equal to 0.954\n",
      "Test R^2 is equal to 0.915\n",
      "The intercept is 13.261\n",
      "RSS is equal to 7.377\n",
      "Train RMSE is equal to 0.085\n",
      "Test RMSE is equal to 0.114\n",
      "The training error is: 0.04560\n",
      "The test     error is: 0.08533\n"
     ]
    },
    {
     "data": {
      "text/plain": [
       "[0.04559885534861996, 0.08533340809778922]"
      ]
     },
     "execution_count": 18,
     "metadata": {},
     "output_type": "execute_result"
    }
   ],
   "source": [
    "svr_log1 = SVR(C=5, epsilon=1e-2)\n",
    "model_results(trainX_trans, np.log(trainY), testX_trans, np.log(testY), svr_log1, show = True)"
   ]
  },
  {
   "cell_type": "markdown",
   "id": "bff5b520",
   "metadata": {},
   "source": [
    "## Plotting errors and R^2 values for different C values for SVR model:"
   ]
  },
  {
   "cell_type": "code",
   "execution_count": 19,
   "id": "1d30614f",
   "metadata": {},
   "outputs": [],
   "source": [
    "C_range = range(1, 20, 1)  \n",
    "train_error = []\n",
    "test_error = []\n",
    "train_r2 = []\n",
    "test_r2 = []\n",
    "\n",
    "for C in C_range:\n",
    "    svr = SVR()\n",
    "    svr.set_params(C=C)\n",
    "    svr.fit(trainX_trans, np.log(trainY))\n",
    "    train_error.append(1 - svr.score(trainX_trans, np.log(trainY)))\n",
    "    test_error.append(1 - svr.score(testX_trans, np.log(testY)))\n",
    "    train_r2.append(svr.score(trainX_trans, np.log(trainY)))\n",
    "    test_r2.append(svr.score(testX_trans, np.log(testY)))"
   ]
  },
  {
   "cell_type": "code",
   "execution_count": 20,
   "id": "80ce7a0b",
   "metadata": {},
   "outputs": [
    {
     "data": {
      "image/png": "[encoded data removed]",
      "text/plain": [
       "<Figure size 432x288 with 1 Axes>"
      ]
     },
     "metadata": {},
     "output_type": "display_data"
    }
   ],
   "source": [
    "plt.plot(C_range, train_error, c='red', label='Training Error')\n",
    "plt.plot(C_range, test_error, c='blue', label='Test Error')\n",
    "plt.ylabel('Errors')\n",
    "plt.xlabel('C values')\n",
    "plt.legend()\n",
    "plt.show()"
   ]
  },
  {
   "cell_type": "code",
   "execution_count": 21,
   "id": "a8629cae",
   "metadata": {},
   "outputs": [
    {
     "data": {
      "image/png": "[encoded data removed]",
      "text/plain": [
       "<Figure size 432x288 with 1 Axes>"
      ]
     },
     "metadata": {},
     "output_type": "display_data"
    }
   ],
   "source": [
    "plt.plot(C_range, train_r2, c='red', label='Training R^2')\n",
    "plt.plot(C_range, test_r2, c='blue', label='Test R^2')\n",
    "plt.ylabel('R^2')\n",
    "plt.xlabel('C values')\n",
    "plt.legend()\n",
    "plt.show()"
   ]
  },
  {
   "cell_type": "markdown",
   "id": "40ddbe31",
   "metadata": {},
   "source": [
    "## Using C as 5 we will plot errors and R^2 values for different epsilon values:"
   ]
  },
  {
   "cell_type": "code",
   "execution_count": 22,
   "id": "c4cbc75b",
   "metadata": {},
   "outputs": [],
   "source": [
    "ep_range = np.linspace(0, 0.2, 1000)  \n",
    "train_error = []\n",
    "test_error = []\n",
    "train_r2 = []\n",
    "test_r2 = []\n",
    "\n",
    "for ep in ep_range:\n",
    "    svr = SVR()\n",
    "    svr.set_params(C=5, epsilon=ep)\n",
    "    svr.fit(trainX_trans, np.log(trainY))\n",
    "    train_error.append(1 - svr.score(trainX_trans, np.log(trainY)))\n",
    "    test_error.append(1 - svr.score(testX_trans, np.log(testY)))\n",
    "    train_r2.append(svr.score(trainX_trans, np.log(trainY)))\n",
    "    test_r2.append(svr.score(testX_trans, np.log(testY)))"
   ]
  },
  {
   "cell_type": "code",
   "execution_count": 27,
   "id": "62eb253f",
   "metadata": {},
   "outputs": [
    {
     "data": {
      "image/png": "[encoded data removed]",
      "text/plain": [
       "<Figure size 432x288 with 1 Axes>"
      ]
     },
     "metadata": {},
     "output_type": "display_data"
    }
   ],
   "source": [
    "plt.plot(ep_range, train_error, c='red', label='Training Error')\n",
    "plt.plot(ep_range, test_error, c='blue', label='Test Error')\n",
    "plt.ylabel('Errors')\n",
    "plt.xlabel('Epsilon values')\n",
    "plt.legend()\n",
    "plt.show()"
   ]
  },
  {
   "cell_type": "code",
   "execution_count": 28,
   "id": "89c371c0",
   "metadata": {},
   "outputs": [
    {
     "data": {
      "image/png": "[encoded data removed]",
      "text/plain": [
       "<Figure size 432x288 with 1 Axes>"
      ]
     },
     "metadata": {},
     "output_type": "display_data"
    }
   ],
   "source": [
    "plt.plot(ep_range, train_r2, c='red', label='Training R^2')\n",
    "plt.plot(ep_range, test_r2, c='blue', label='Test R^2')\n",
    "plt.ylabel('R^2')\n",
    "plt.xlabel('Epsilon values')\n",
    "plt.legend()\n",
    "plt.show()"
   ]
  },
  {
   "cell_type": "markdown",
   "id": "93fc078d",
   "metadata": {},
   "source": [
    "## Using Grid Search to select best parameters"
   ]
  },
  {
   "cell_type": "code",
   "execution_count": 31,
   "id": "ab0584e2",
   "metadata": {},
   "outputs": [],
   "source": [
    "# Setting x and y variables\n",
    "\n",
    "x = trainX_trans\n",
    "y = np.log(trainY)"
   ]
  },
  {
   "cell_type": "code",
   "execution_count": 37,
   "id": "9f5d00f0",
   "metadata": {},
   "outputs": [
    {
     "data": {
      "text/plain": [
       "GridSearchCV(cv=5, estimator=SVR(C=5, epsilon=0.01), n_jobs=-1,\n",
       "             param_grid=[{'degree': [1, 2, 3],\n",
       "                          'gamma': array([0.001, 0.112, 0.223, 0.334, 0.445, 0.556, 0.667, 0.778, 0.889,\n",
       "       1.   ]),\n",
       "                          'kernel': ['poly']},\n",
       "                         {'gamma': array([0.001, 0.112, 0.223, 0.334, 0.445, 0.556, 0.667, 0.778, 0.889,\n",
       "       1.   ]),\n",
       "                          'kernel': ['rbf']},\n",
       "                         {'kernel': ['linear']}],\n",
       "             return_train_score=True)"
      ]
     },
     "execution_count": 37,
     "metadata": {},
     "output_type": "execute_result"
    }
   ],
   "source": [
    "# Setting the parameter grid \n",
    "\n",
    "svr_fin = SVR(C=5, epsilon=1e-2)\n",
    "\n",
    "grid_para_svr = [\n",
    "    {'kernel': ['poly'],\n",
    "     'degree': [1, 2, 3],\n",
    "     'gamma': np.linspace(1e-3,1,10)},\n",
    "    {'kernel': ['rbf'],\n",
    "     'gamma': np.linspace(1e-3,1,10)},\n",
    "    {'kernel': ['linear']}]\n",
    "\n",
    "# Running the SVR model through the grid search\n",
    "\n",
    "svr_grid = GridSearchCV(svr_fin, grid_para_svr, cv=5, return_train_score = True, n_jobs=-1)\n",
    "\n",
    "svr_grid.fit(x, y)"
   ]
  },
  {
   "cell_type": "code",
   "execution_count": 40,
   "id": "e6e8e288",
   "metadata": {},
   "outputs": [
    {
     "data": {
      "text/plain": [
       "{'gamma': 0.001, 'kernel': 'rbf'}"
      ]
     },
     "execution_count": 40,
     "metadata": {},
     "output_type": "execute_result"
    }
   ],
   "source": [
    "# The best parameters:\n",
    "\n",
    "svr_grid.best_params_"
   ]
  },
  {
   "cell_type": "code",
   "execution_count": 41,
   "id": "3a020583",
   "metadata": {},
   "outputs": [
    {
     "data": {
      "text/plain": [
       "0.905306894511092"
      ]
     },
     "execution_count": 41,
     "metadata": {},
     "output_type": "execute_result"
    }
   ],
   "source": [
    "# The best scores:\n",
    "\n",
    "svr_grid.best_score_"
   ]
  },
  {
   "cell_type": "code",
   "execution_count": 43,
   "id": "c17cea24",
   "metadata": {},
   "outputs": [
    {
     "name": "stdout",
     "output_type": "stream",
     "text": [
      "The training error is: 0.06125\n",
      "The test     error is: 0.08632\n"
     ]
    }
   ],
   "source": [
    "# Best estimator training/test errors\n",
    "\n",
    "print(\"The training error is: %.5f\" % (1 - svr_grid.best_estimator_.score(trainX_trans, np.log(trainY))))\n",
    "print(\"The test     error is: %.5f\" % (1 - svr_grid.best_estimator_.score(testX_trans, np.log(testY))))"
   ]
  },
  {
   "cell_type": "code",
   "execution_count": 42,
   "id": "706b2c05",
   "metadata": {},
   "outputs": [],
   "source": [
    "# Selecting the best model from the Grid Search as the final model\n",
    "\n",
    "final_svr = svr_grid.best_estimator_"
   ]
  },
  {
   "cell_type": "code",
   "execution_count": 45,
   "id": "a3174a1f",
   "metadata": {},
   "outputs": [
    {
     "data": {
      "text/plain": [
       "{'C': 5,\n",
       " 'cache_size': 200,\n",
       " 'coef0': 0.0,\n",
       " 'degree': 3,\n",
       " 'epsilon': 0.01,\n",
       " 'gamma': 0.001,\n",
       " 'kernel': 'rbf',\n",
       " 'max_iter': -1,\n",
       " 'shrinking': True,\n",
       " 'tol': 0.001,\n",
       " 'verbose': False}"
      ]
     },
     "execution_count": 45,
     "metadata": {},
     "output_type": "execute_result"
    }
   ],
   "source": [
    "# Checking if all parameters are correct:\n",
    "\n",
    "final_svr.get_params()"
   ]
  },
  {
   "cell_type": "code",
   "execution_count": 46,
   "id": "34b8fcce",
   "metadata": {},
   "outputs": [
    {
     "name": "stdout",
     "output_type": "stream",
     "text": [
      "Train R^2 is equal to 0.939\n",
      "Test R^2 is equal to 0.914\n",
      "The intercept is 13.890\n",
      "RSS is equal to 9.910\n",
      "Train RMSE is equal to 0.099\n",
      "Test RMSE is equal to 0.114\n",
      "The training error is: 0.06125\n",
      "The test     error is: 0.08632\n"
     ]
    },
    {
     "data": {
      "text/plain": [
       "[0.06125488618280839, 0.08632254316781596]"
      ]
     },
     "execution_count": 46,
     "metadata": {},
     "output_type": "execute_result"
    }
   ],
   "source": [
    "# Model results:\n",
    "\n",
    "model_results(trainX_trans, np.log(trainY), testX_trans, np.log(testY), final_svr, show = True)"
   ]
  },
  {
   "cell_type": "code",
   "execution_count": 49,
   "id": "4793cef1",
   "metadata": {},
   "outputs": [
    {
     "data": {
      "text/plain": [
       "array([[ 5.        ,  5.        , -5.        , -2.47501466, -5.        ,\n",
       "         5.        ,  5.        ,  5.        , -5.        ,  5.        ,\n",
       "        -5.        , -5.        ,  5.        ,  5.        , -5.        ,\n",
       "        -5.        , -5.        , -3.53618583, -4.30372519,  5.        ,\n",
       "        -5.        , -5.        ,  5.        ,  5.        , -0.60524948,\n",
       "         2.07171739, -5.        ,  0.74363947,  2.37212657, -4.83404022,\n",
       "        -4.34956961, -0.12468224,  2.84518712, -5.        , -5.        ,\n",
       "         4.75725669, -5.        ,  5.        ,  5.        ,  5.        ,\n",
       "         3.20242718, -5.        , -5.        ,  5.        , -2.49778066,\n",
       "        -5.        ,  5.        ,  5.        ,  5.        , -5.        ,\n",
       "        -4.16043801,  2.88119896,  5.        ,  5.        ,  5.        ,\n",
       "        -5.        ,  2.79830084, -4.38179344, -5.        , -5.        ,\n",
       "        -5.        , -5.        , -5.        ,  5.        ,  5.        ,\n",
       "         2.48247329,  5.        ,  2.77558266, -5.        ,  5.        ,\n",
       "        -5.        , -5.        ,  5.        , -5.        , -5.        ,\n",
       "         5.        , -2.93882048, -0.625832  , -5.        , -3.40083445,\n",
       "        -5.        , -5.        ,  5.        , -5.        , -5.        ,\n",
       "        -5.        ,  5.        , -5.        ,  5.        ,  5.        ,\n",
       "         5.        ,  0.46594666, -5.        ,  5.        ,  5.        ,\n",
       "        -5.        , -5.        , -5.        , -3.70564049,  5.        ,\n",
       "        -0.14532508,  5.        , -5.        , -5.        , -3.9025113 ,\n",
       "        -5.        ,  2.41854496,  5.        ,  5.        , -5.        ,\n",
       "        -5.        ,  5.        , -5.        ,  5.        ,  4.89323692,\n",
       "         0.69495906,  1.30159871, -5.        , -5.        ,  5.        ,\n",
       "        -4.62107645, -5.        ,  5.        ,  5.        ,  1.2968726 ,\n",
       "        -2.74505628,  5.        ,  5.        , -5.        , -5.        ,\n",
       "        -5.        ,  5.        ,  1.31946123, -5.        , -5.        ,\n",
       "         5.        , -5.        , -5.        , -3.15413976,  3.33165548,\n",
       "        -5.        , -4.91715254, -5.        , -5.        ,  5.        ,\n",
       "        -5.        , -5.        ,  5.        , -2.3771345 ,  2.56514857,\n",
       "         0.97003821,  1.47564302,  5.        , -5.        , -5.        ,\n",
       "        -1.66840897, -5.        , -5.        ,  1.45625564,  5.        ,\n",
       "        -5.        ,  0.01877783, -1.5411923 , -5.        , -5.        ,\n",
       "         5.        ,  3.997048  , -4.41527526, -4.31888979, -3.73188873,\n",
       "        -5.        ,  0.37830833,  5.        , -5.        , -4.97847841,\n",
       "         5.        ,  5.        ,  5.        ,  5.        ,  5.        ,\n",
       "         0.86633813,  0.28300628,  0.97677437,  5.        , -5.        ,\n",
       "        -5.        ,  0.06832543, -5.        ,  5.        , -5.        ,\n",
       "        -5.        , -5.        ,  5.        ,  5.        , -2.04111204,\n",
       "        -4.82063992,  1.78920487,  5.        ,  5.        , -5.        ,\n",
       "        -5.        , -5.        ,  5.        , -0.4913085 ,  5.        ,\n",
       "         2.04557294,  4.75428719,  4.45797458, -2.90331672, -0.79142651,\n",
       "        -2.99986602, -5.        , -5.        ,  4.87863104, -3.54552023,\n",
       "        -5.        ,  0.6098689 ,  3.1318846 , -2.46728611,  3.2971995 ,\n",
       "        -5.        , -5.        , -1.2418656 , -5.        , -5.        ,\n",
       "        -1.05568457, -5.        , -0.36478792, -5.        ,  5.        ,\n",
       "         5.        , -5.        , -5.        ,  4.18300974, -5.        ,\n",
       "        -5.        , -4.20603231, -5.        , -5.        ,  0.77044018,\n",
       "         5.        ,  5.        ,  0.71280864,  5.        , -5.        ,\n",
       "        -5.        , -5.        ,  5.        , -5.        , -5.        ,\n",
       "         5.        , -2.61778445,  5.        ,  5.        ,  5.        ,\n",
       "         5.        , -5.        ,  5.        , -5.        ,  5.        ,\n",
       "        -5.        , -5.        , -5.        , -5.        , -0.9160048 ,\n",
       "        -5.        , -5.        , -1.9715539 ,  5.        , -5.        ,\n",
       "        -1.35491209,  5.        ,  5.        ,  5.        , -1.43340444,\n",
       "         5.        ,  5.        ,  5.        , -5.        ,  5.        ,\n",
       "        -2.88769952,  1.63490146, -2.23150991,  0.74882695, -5.        ,\n",
       "        -0.08145845, -5.        , -5.        ,  3.84836361, -4.17777132,\n",
       "        -5.        ,  5.        , -5.        , -5.        , -5.        ,\n",
       "         5.        , -5.        , -5.        , -5.        ,  5.        ,\n",
       "         5.        ,  5.        , -5.        ,  3.98572201, -5.        ,\n",
       "         5.        , -5.        ,  5.        ,  0.64817777, -1.84869295,\n",
       "        -5.        ,  5.        ,  5.        ,  5.        , -5.        ,\n",
       "         2.13322476, -5.        ,  5.        , -5.        ,  5.        ,\n",
       "         5.        ,  5.        ,  1.65424171,  0.45898996,  5.        ,\n",
       "        -5.        , -5.        ,  5.        , -5.        ,  5.        ,\n",
       "        -5.        , -5.        ,  4.20978482,  5.        , -5.        ,\n",
       "         1.17958005,  0.63669352,  4.94530967, -5.        ,  2.96837623,\n",
       "         5.        ,  2.21311791, -0.9643987 , -5.        , -0.24263403,\n",
       "         5.        , -5.        ,  5.        , -3.44304457,  5.        ,\n",
       "         3.0441772 , -5.        ,  5.        ,  5.        , -5.        ,\n",
       "         5.        ,  5.        , -1.63709003,  5.        , -1.64177254,\n",
       "         5.        , -5.        , -5.        , -5.        ,  1.17146431,\n",
       "         5.        ,  5.        ,  5.        , -5.        , -4.89751933,\n",
       "         4.05401189,  5.        ,  5.        ,  5.        ,  4.91298678,\n",
       "        -5.        , -0.09393967,  5.        , -5.        , -5.        ,\n",
       "         1.77810907, -4.6007614 , -5.        , -5.        , -5.        ,\n",
       "         1.39939885, -5.        ,  5.        ,  3.26651822,  5.        ,\n",
       "         5.        ,  5.        ,  5.        ,  5.        , -5.        ,\n",
       "         5.        ,  5.        , -5.        , -5.        , -5.        ,\n",
       "        -5.        ,  5.        ,  5.        ,  5.        , -4.10979343,\n",
       "        -4.52328008,  5.        , -5.        ,  5.        ,  4.67751208,\n",
       "        -5.        , -5.        ,  5.        ,  5.        ,  1.66403565,\n",
       "        -2.58115762, -2.39783653,  4.92593456,  0.67583621, -5.        ,\n",
       "         5.        , -5.        , -5.        ,  2.66648921, -5.        ,\n",
       "         5.        ,  2.53897922,  5.        ,  5.        , -5.        ,\n",
       "         0.46179634, -0.53223776, -4.48927095,  0.41919845, -5.        ,\n",
       "        -0.2217298 , -0.32507861,  5.        , -5.        ,  5.        ,\n",
       "         5.        ,  1.90010961,  5.        ,  5.        ,  5.        ,\n",
       "        -0.75480528, -5.        , -5.        ,  1.13371551, -5.        ,\n",
       "         5.        , -5.        ,  4.59981983, -4.44566641,  5.        ,\n",
       "         5.        , -2.22129102, -5.        , -5.        ,  5.        ,\n",
       "        -5.        , -5.        ,  5.        , -5.        ,  5.        ,\n",
       "         5.        ,  5.        ,  5.        , -5.        , -0.24350981,\n",
       "        -4.226502  , -5.        , -5.        ,  4.56170669,  5.        ,\n",
       "        -5.        , -5.        , -5.        , -5.        ,  5.        ,\n",
       "        -5.        ,  5.        , -5.        , -5.        , -5.        ,\n",
       "         4.27418496, -5.        ,  5.        , -2.58645456, -5.        ,\n",
       "        -5.        ,  5.        , -4.3139493 ,  5.        ,  5.        ,\n",
       "         5.        ,  5.        , -5.        ,  5.        , -4.01759715,\n",
       "        -5.        ,  5.        , -5.        ,  5.        ,  5.        ,\n",
       "         5.        , -1.46998849,  5.        , -5.        ,  5.        ,\n",
       "         5.        , -5.        , -5.        , -5.        ,  5.        ,\n",
       "        -2.27350617,  5.        ,  5.        , -5.        ,  5.        ,\n",
       "         5.        , -5.        , -4.24220761,  5.        ,  5.        ,\n",
       "        -4.85036892, -5.        ,  5.        ,  1.00591442, -5.        ,\n",
       "         2.06165487, -5.        ,  5.        , -0.49443468,  5.        ,\n",
       "        -5.        ,  2.56842014,  5.        , -5.        , -5.        ,\n",
       "        -3.95851455,  5.        , -5.        ,  5.        , -5.        ,\n",
       "        -1.35662435,  5.        , -5.        ,  1.7751883 , -5.        ,\n",
       "        -5.        , -5.        , -0.23899483,  5.        , -0.05383593,\n",
       "        -5.        , -5.        , -5.        , -5.        ,  5.        ,\n",
       "        -5.        ,  5.        , -1.27884895,  5.        ,  0.6104903 ,\n",
       "         5.        ,  4.5939931 ,  5.        ,  5.        ,  5.        ,\n",
       "        -5.        ,  5.        , -2.11593611, -5.        ,  5.        ,\n",
       "         5.        ,  1.36695914, -5.        , -5.        , -5.        ,\n",
       "        -5.        ,  5.        , -1.7312407 ,  5.        , -5.        ,\n",
       "        -1.03285648, -5.        ,  5.        ,  5.        , -1.66566673,\n",
       "        -5.        , -5.        ,  5.        , -5.        ,  5.        ,\n",
       "        -5.        , -5.        , -0.56893103,  2.37794148, -3.3654573 ,\n",
       "         5.        ,  5.        ,  5.        , -0.21415495,  5.        ,\n",
       "         5.        , -0.32595491,  3.24718478,  1.27100828, -5.        ,\n",
       "        -5.        ,  0.70977874,  5.        ,  5.        ,  5.        ,\n",
       "         5.        ,  1.03126177, -5.        ,  5.        , -5.        ,\n",
       "         5.        , -5.        , -1.67367664,  5.        , -5.        ,\n",
       "         5.        ,  5.        ,  5.        ,  5.        ,  4.08584836,\n",
       "        -5.        , -5.        ,  5.        , -5.        , -5.        ,\n",
       "         1.32979369, -0.07318005,  5.        , -5.        ,  5.        ,\n",
       "        -5.        ,  5.        , -5.        ,  4.72224197,  5.        ,\n",
       "         5.        ,  0.45967379, -5.        ,  5.        , -5.        ,\n",
       "        -3.69220622, -5.        ,  2.48729733, -5.        ,  4.16730948,\n",
       "        -0.76532464, -5.        ,  0.81869614,  0.96015297,  5.        ,\n",
       "         5.        , -5.        ,  5.        ,  5.        ,  5.        ,\n",
       "        -5.        ,  1.60460716, -5.        , -5.        ,  1.60489993,\n",
       "        -5.        ,  5.        , -5.        , -5.        , -5.        ,\n",
       "         5.        , -5.        ,  3.88092594, -5.        ,  0.06303151,\n",
       "        -5.        , -5.        , -5.        , -2.20636624, -5.        ,\n",
       "         1.00334337,  5.        , -5.        ,  4.08995422, -5.        ,\n",
       "         5.        ,  5.        ,  5.        , -5.        ,  5.        ,\n",
       "         1.31111932,  1.78767653,  5.        ,  5.        ,  5.        ,\n",
       "         5.        , -5.        ,  2.6745602 , -4.57020384, -4.04011261,\n",
       "        -5.        ,  5.        ,  5.        ,  5.        , -4.02560735,\n",
       "        -5.        ,  5.        ,  5.        , -5.        , -2.50712219,\n",
       "        -5.        , -5.        , -5.        , -2.68797729,  3.4414508 ,\n",
       "         5.        , -5.        ,  2.32764899,  5.        ,  5.        ,\n",
       "        -2.81779499,  0.76144708, -3.11361185, -5.        , -0.8402357 ,\n",
       "         5.        , -5.        , -0.99011015, -5.        , -5.        ,\n",
       "         3.32222816, -5.        , -5.        , -0.86548537,  5.        ,\n",
       "        -3.91034145, -4.78940878, -5.        ,  2.88973831,  1.12320429,\n",
       "         5.        , -5.        ,  5.        ,  5.        ,  5.        ,\n",
       "         0.63413763,  5.        ,  5.        ,  5.        ,  2.94569913,\n",
       "         5.        , -2.35909558,  5.        ,  5.        , -4.5841379 ,\n",
       "        -5.        ,  5.        ,  5.        ,  5.        ,  5.        ,\n",
       "         1.85771794,  5.        ,  4.86768906, -5.        ,  5.        ,\n",
       "        -5.        , -2.73129809,  5.        ,  5.        , -3.12216696,\n",
       "        -5.        ,  5.        , -3.46670256,  1.65856348,  5.        ,\n",
       "         5.        , -1.45702909, -3.95289799,  5.        ,  5.        ,\n",
       "         5.        ,  0.10855212, -3.54333512,  5.        ,  5.        ,\n",
       "         1.88143254,  2.2362933 ,  5.        ,  5.        ,  4.13713264,\n",
       "        -5.        ,  5.        , -5.        ,  5.        , -2.53859309,\n",
       "        -5.        ,  5.        , -5.        , -0.55400093,  4.8804816 ,\n",
       "         5.        ,  5.        ,  3.45354722, -5.        ,  5.        ,\n",
       "        -5.        , -3.88051754, -5.        ,  5.        , -5.        ,\n",
       "         5.        ,  5.        , -0.6526959 ,  5.        ,  2.24459776,\n",
       "        -5.        ,  5.        ,  0.41808887,  5.        , -1.68284291,\n",
       "        -5.        , -0.43806326, -5.        ,  5.        ,  5.        ,\n",
       "        -5.        ,  2.92741008,  5.        , -2.34344617,  5.        ,\n",
       "         5.        , -5.        ,  5.        ,  2.91285341, -5.        ,\n",
       "        -5.        , -4.76629653,  5.        ,  5.        , -2.5282336 ,\n",
       "         4.04250019,  4.11906554,  4.23988326, -5.        ,  1.86929873,\n",
       "        -5.        , -5.        ,  5.        ,  5.        ,  5.        ,\n",
       "        -5.        , -3.56893189, -5.        ,  5.        , -5.        ,\n",
       "         1.22580556, -0.1991314 , -5.        , -5.        , -1.96851712,\n",
       "         5.        , -5.        , -0.27751249,  5.        ,  5.        ,\n",
       "         1.069801  , -2.92324079, -5.        , -0.62882848,  5.        ,\n",
       "         5.        ,  1.50619907, -4.59752884,  5.        , -3.52560607,\n",
       "         5.        ,  5.        ,  0.89799798, -5.        , -2.35636839,\n",
       "         5.        , -0.79341986,  5.        ,  5.        , -5.        ,\n",
       "         5.        , -5.        ,  5.        , -5.        ,  5.        ,\n",
       "        -0.37655479,  5.        , -5.        , -5.        ,  5.        ,\n",
       "        -5.        ,  4.92576435,  1.24955796, -5.        , -5.        ,\n",
       "         5.        , -5.        ,  2.18312613, -5.        , -3.51977902,\n",
       "        -5.        ,  5.        , -0.19971283, -5.        ]])"
      ]
     },
     "execution_count": 49,
     "metadata": {},
     "output_type": "execute_result"
    }
   ],
   "source": [
    "final_svr.dual_coef_"
   ]
  },
  {
   "cell_type": "code",
   "execution_count": 52,
   "id": "11de42e4",
   "metadata": {},
   "outputs": [],
   "source": [
    "# Using lasso(alpha=0.01) to select features\n",
    "\n",
    "selected_feat = ['LotArea', 'LotShape', 'OverallQual', 'MasVnrArea', 'BsmtQual',\n",
    "       'BsmtUnfSF', 'TotalBsmtSF', 'HeatingQC', '1stFlrSF', 'KitchenQual',\n",
    "       'Fireplaces', 'GarageArea', 'WoodDeckSF', 'OpenPorchSF', 'BsmtFinSF',\n",
    "       'sold_age', 'yr_since_remod', 'Encl_Porch_tot', 'Usable_Space']"
   ]
  },
  {
   "cell_type": "code",
   "execution_count": 53,
   "id": "ec01a5ac",
   "metadata": {},
   "outputs": [
    {
     "name": "stdout",
     "output_type": "stream",
     "text": [
      "Train R^2 is equal to 0.885\n",
      "Test R^2 is equal to 0.879\n",
      "The intercept is 13.385\n",
      "RSS is equal to 18.529\n",
      "Train RMSE is equal to 0.135\n",
      "Test RMSE is equal to 0.136\n",
      "The training error is: 0.11453\n",
      "The test     error is: 0.12111\n"
     ]
    },
    {
     "data": {
      "text/plain": [
       "[0.11453300946033207, 0.12110822823610634]"
      ]
     },
     "execution_count": 53,
     "metadata": {},
     "output_type": "execute_result"
    }
   ],
   "source": [
    "# Model results:\n",
    "\n",
    "model_results(trainX_trans[selected_feat], np.log(trainY), testX_trans[selected_feat], np.log(testY), final_svr, show = True)"
   ]
  },
  {
   "cell_type": "code",
   "execution_count": 54,
   "id": "942779dd",
   "metadata": {},
   "outputs": [
    {
     "name": "stdout",
     "output_type": "stream",
     "text": [
      "Train R^2 is equal to 0.912\n",
      "Test R^2 is equal to 0.899\n",
      "The intercept is 3.706\n",
      "RSS is equal to 1853259.562\n",
      "Train RMSE is equal to 0.296\n",
      "Test RMSE is equal to 0.317\n",
      "The training error is: 0.08751\n",
      "The test     error is: 0.10079\n"
     ]
    },
    {
     "data": {
      "text/plain": [
       "[0.08751265450982149, 0.10078871228462627]"
      ]
     },
     "execution_count": 54,
     "metadata": {},
     "output_type": "execute_result"
    }
   ],
   "source": [
    "trfm = PowerTransformer(method='box-cox')\n",
    "trainY_trans = trfm.fit_transform(pd.DataFrame(trainY))\n",
    "testY_trans = trfm.fit_transform(pd.DataFrame(testY))\n",
    "\n",
    "model_results(trainX_trans, trainY_trans, testX_trans, testY_trans, final_svr, show = True)"
   ]
  }
 ],
 "metadata": {
  "kernelspec": {
   "display_name": "Python 3",
   "language": "python",
   "name": "python3"
  },
  "language_info": {
   "codemirror_mode": {
    "name": "ipython",
    "version": 3
   },
   "file_extension": ".py",
   "mimetype": "text/x-python",
   "name": "python",
   "nbconvert_exporter": "python",
   "pygments_lexer": "ipython3",
   "version": "3.8.8"
  }
 },
 "nbformat": 4,
 "nbformat_minor": 5
}
