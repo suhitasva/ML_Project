{
 "cells": [
  {
   "cell_type": "markdown",
   "id": "60269240",
   "metadata": {},
   "source": [
    "# Ames, Iowa : Predicting Sales Prices - Descision Tree and Random Forest modeling"
   ]
  },
  {
   "cell_type": "code",
   "execution_count": 1,
   "id": "ea29116c",
   "metadata": {},
   "outputs": [],
   "source": [
    "import pandas as pd\n",
    "import numpy as np\n",
    "import seaborn as sns\n",
    "from math import sqrt\n",
    "import matplotlib.pyplot as plt\n",
    "from sklearn.ensemble import RandomForestRegressor\n",
    "from sklearn.model_selection import train_test_split, GridSearchCV\n",
    "from sklearn.preprocessing import StandardScaler,\\\n",
    "MinMaxScaler, MaxAbsScaler, FunctionTransformer, PowerTransformer\n",
    "from LR_helper import cat_column_combine_vars, num_new_features,\\\n",
    "label_encode_features, model_results, cat_new_features, std_num_cols\n",
    "from clean_helper import dtype_update\n",
    "from dtree_rf_helper import tree_label_encode, tree_model_res\n",
    "plt.style.use('ggplot')\n",
    "import warnings\n",
    "warnings.filterwarnings(\"ignore\")"
   ]
  },
  {
   "cell_type": "markdown",
   "id": "976f0dd5",
   "metadata": {},
   "source": [
    "### Loading cleaned training and testing datasets:-"
   ]
  },
  {
   "cell_type": "code",
   "execution_count": 2,
   "id": "065cd88f",
   "metadata": {},
   "outputs": [
    {
     "name": "stdout",
     "output_type": "stream",
     "text": [
      "(1453, 80)\n",
      "(1457, 79)\n"
     ]
    }
   ],
   "source": [
    "train_df = pd.read_csv(\"clean_train.csv\",index_col=0)\n",
    "test_df = pd.read_csv(\"clean_test.csv\",index_col=0)\n",
    "print(train_df.shape)\n",
    "print(test_df.shape)"
   ]
  },
  {
   "cell_type": "markdown",
   "id": "2cb2f540",
   "metadata": {},
   "source": [
    "### Creating new numerical variables, combining variables and creating new categorical variables:-"
   ]
  },
  {
   "cell_type": "code",
   "execution_count": 3,
   "id": "77c5027b",
   "metadata": {},
   "outputs": [],
   "source": [
    "# Creating new numerical variable features:-\n",
    "num_new_features(train_df)\n",
    "num_new_features(test_df)\n",
    "\n",
    "# Combining categories in some categorical features:-\n",
    "cat_column_combine_vars(train_df)\n",
    "cat_column_combine_vars(test_df)\n",
    "\n",
    "# Creating new categorical variable features:-\n",
    "cat_new_features(train_df)\n",
    "cat_new_features(test_df)"
   ]
  },
  {
   "cell_type": "markdown",
   "id": "89305955",
   "metadata": {},
   "source": [
    "### Label encoding all categorical features (all dataframes):"
   ]
  },
  {
   "cell_type": "code",
   "execution_count": 4,
   "id": "f95adf7d",
   "metadata": {},
   "outputs": [],
   "source": [
    "# Label encoding via helper functions:\n",
    "\n",
    "tree_label_encode(train_df)\n",
    "tree_label_encode(test_df)"
   ]
  },
  {
   "cell_type": "markdown",
   "id": "9b9092a4",
   "metadata": {},
   "source": [
    "### Standardizing numerical columns:"
   ]
  },
  {
   "cell_type": "code",
   "execution_count": 5,
   "id": "5d02bcf0",
   "metadata": {},
   "outputs": [],
   "source": [
    "# Standardizing via helper functions:\n",
    "\n",
    "std_num_cols(train_df)\n",
    "std_num_cols(test_df)"
   ]
  },
  {
   "cell_type": "markdown",
   "id": "6b09c10c",
   "metadata": {},
   "source": [
    "## Random Forest Models:-"
   ]
  },
  {
   "cell_type": "code",
   "execution_count": 6,
   "id": "689a7a9f",
   "metadata": {},
   "outputs": [],
   "source": [
    "## Separating x and y variables for test-train split (main df)\n",
    "\n",
    "house_x = train_df.drop(['SalePrice'], axis=1)\n",
    "house_y = train_df['SalePrice']\n",
    "\n",
    "# Train test 70:30 split\n",
    "\n",
    "trainX, testX, trainY, testY = train_test_split(house_x, house_y, random_state=42, test_size=0.3)"
   ]
  },
  {
   "cell_type": "markdown",
   "id": "6e1e285d",
   "metadata": {},
   "source": [
    "### Base Model:"
   ]
  },
  {
   "cell_type": "code",
   "execution_count": 7,
   "id": "a0122122",
   "metadata": {},
   "outputs": [
    {
     "name": "stdout",
     "output_type": "stream",
     "text": [
      "Train R^2 is equal to 0.982\n",
      "Test R^2 is equal to 0.903\n",
      "Train RMSE is equal to 10486.283\n",
      "Test RMSE is equal to 22779.161\n",
      "The training error is: 0.01800\n",
      "The test     error is: 0.09693\n"
     ]
    },
    {
     "data": {
      "text/plain": [
       "[0.018000751928314518, 0.09692926001824986]"
      ]
     },
     "execution_count": 7,
     "metadata": {},
     "output_type": "execute_result"
    }
   ],
   "source": [
    "rf_base = RandomForestRegressor(random_state=0)\n",
    "tree_model_res(trainX, trainY, testX, testY, rf_base, show = True)"
   ]
  },
  {
   "cell_type": "markdown",
   "id": "262ad5bd",
   "metadata": {},
   "source": [
    "### Model with Box-Cox transformed y variable:"
   ]
  },
  {
   "cell_type": "code",
   "execution_count": 8,
   "id": "e8c0ce83",
   "metadata": {},
   "outputs": [
    {
     "name": "stdout",
     "output_type": "stream",
     "text": [
      "Train R^2 is equal to 0.982\n",
      "Test R^2 is equal to 0.889\n",
      "Train RMSE is equal to 0.136\n",
      "Test RMSE is equal to 0.334\n",
      "The training error is: 0.01844\n",
      "The test     error is: 0.11125\n"
     ]
    },
    {
     "data": {
      "text/plain": [
       "[0.018443378737350802, 0.11124795851942704]"
      ]
     },
     "execution_count": 8,
     "metadata": {},
     "output_type": "execute_result"
    }
   ],
   "source": [
    "#Transforming variables\n",
    "\n",
    "trfm = PowerTransformer(method='box-cox')\n",
    "trainY_trans = trfm.fit_transform(pd.DataFrame(trainY))\n",
    "testY_trans = trfm.fit_transform(pd.DataFrame(testY))\n",
    "\n",
    "rf_BCy = RandomForestRegressor(random_state=0)\n",
    "tree_model_res(trainX, trainY_trans, testX, testY_trans, rf_BCy, show = True)"
   ]
  },
  {
   "cell_type": "markdown",
   "id": "67ae2ab8",
   "metadata": {},
   "source": [
    "### Model with Log transformed x and y variables and oob score feature turned on:"
   ]
  },
  {
   "cell_type": "code",
   "execution_count": 10,
   "id": "2d6c938b",
   "metadata": {
    "scrolled": true
   },
   "outputs": [
    {
     "name": "stdout",
     "output_type": "stream",
     "text": [
      "Train R^2 is equal to 0.982\n",
      "Test R^2 is equal to 0.888\n",
      "Train RMSE is equal to 0.053\n",
      "Test RMSE is equal to 0.130\n",
      "The training error is: 0.01798\n",
      "The test     error is: 0.11199\n"
     ]
    },
    {
     "data": {
      "text/plain": [
       "[0.017975394766618802, 0.11199004561367876]"
      ]
     },
     "execution_count": 10,
     "metadata": {},
     "output_type": "execute_result"
    }
   ],
   "source": [
    "#Transforming variables\n",
    "\n",
    "trfm = FunctionTransformer(func=np.log1p)\n",
    "trainX_trans = trfm.fit_transform(trainX)\n",
    "testX_trans = trfm.fit_transform(testX)\n",
    "\n",
    "rf_log = RandomForestRegressor(random_state=0)\n",
    "rf_log.set_params(random_state=42, oob_score=True)\n",
    "tree_model_res(trainX_trans, np.log(trainY), testX_trans, np.log(testY), rf_log, show = True)"
   ]
  },
  {
   "cell_type": "code",
   "execution_count": 12,
   "id": "5b62bdb8",
   "metadata": {},
   "outputs": [
    {
     "data": {
      "text/plain": [
       "0.8679377662096854"
      ]
     },
     "execution_count": 12,
     "metadata": {},
     "output_type": "execute_result"
    }
   ],
   "source": [
    "# Out of bag error:\n",
    "\n",
    "rf_log.oob_score_"
   ]
  },
  {
   "cell_type": "markdown",
   "id": "294e9968",
   "metadata": {},
   "source": [
    "## Plotting errors and R^2 values for different number of trees in the random forest:"
   ]
  },
  {
   "cell_type": "code",
   "execution_count": 15,
   "id": "b9e10760",
   "metadata": {},
   "outputs": [],
   "source": [
    "trees_range = range(30, 500, 10)  \n",
    "train_error = []\n",
    "test_error = []\n",
    "oob_error = []\n",
    "train_r2 = []\n",
    "test_r2 = []\n",
    "\n",
    "for n_trees in trees_range:\n",
    "    rf_log.set_params(n_estimators=n_trees, random_state=0, oob_score=True)\n",
    "    rf_log.fit(trainX_trans, np.log(trainY))\n",
    "    train_error.append(1 - rf_log.score(trainX_trans, np.log(trainY)))\n",
    "    test_error.append(1 - rf_log.score(testX_trans, np.log(testY)))\n",
    "    train_r2.append(rf_log.score(trainX_trans, np.log(trainY)))\n",
    "    test_r2.append(rf_log.score(testX_trans, np.log(testY)))\n",
    "    oob_error.append(1 - rf_log.oob_score_)"
   ]
  },
  {
   "cell_type": "code",
   "execution_count": 16,
   "id": "0fa01491",
   "metadata": {},
   "outputs": [
    {
     "data": {
      "image/png": "[encoded data removed]",
      "text/plain": [
       "<Figure size 432x288 with 1 Axes>"
      ]
     },
     "metadata": {},
     "output_type": "display_data"
    }
   ],
   "source": [
    "plt.plot(trees_range, train_error, c='red', label='Training Error')\n",
    "plt.plot(trees_range, test_error, c='blue', label='Test Error')\n",
    "plt.plot(trees_range, oob_error, c='green', label='OOB Error')\n",
    "plt.ylabel('Errors')\n",
    "plt.xlabel('Number of trees')\n",
    "plt.legend()\n",
    "plt.show()"
   ]
  },
  {
   "cell_type": "code",
   "execution_count": 18,
   "id": "39ced033",
   "metadata": {},
   "outputs": [
    {
     "data": {
      "image/png": "[encoded data removed]",
      "text/plain": [
       "<Figure size 432x288 with 1 Axes>"
      ]
     },
     "metadata": {},
     "output_type": "display_data"
    }
   ],
   "source": [
    "plt.plot(trees_range, train_r2, c='red', label='Training R^2')\n",
    "plt.plot(trees_range, test_r2, c='blue', label='Test R^2')\n",
    "plt.ylabel('R^2')\n",
    "plt.xlabel('Number of trees')\n",
    "plt.legend()\n",
    "plt.show()"
   ]
  },
  {
   "cell_type": "markdown",
   "id": "b12a6849",
   "metadata": {},
   "source": [
    "## Using Grid Search to find best parameters"
   ]
  },
  {
   "cell_type": "code",
   "execution_count": 21,
   "id": "95593f50",
   "metadata": {},
   "outputs": [],
   "source": [
    "depth_range = range(3, 20)\n",
    "train_error = []\n",
    "test_error = []\n",
    "oob_error = []\n",
    "train_r2 = []\n",
    "test_r2 = []\n",
    "\n",
    "for depth in depth_range:\n",
    "    rf_log.set_params(max_depth=depth, random_state=0, oob_score=True)\n",
    "    rf_log.fit(trainX_trans, np.log(trainY))\n",
    "    train_error.append(1 - rf_log.score(trainX_trans, np.log(trainY)))\n",
    "    test_error.append(1 - rf_log.score(testX_trans, np.log(testY)))\n",
    "    train_r2.append(rf_log.score(trainX_trans, np.log(trainY)))\n",
    "    test_r2.append(rf_log.score(testX_trans, np.log(testY)))\n",
    "    oob_error.append(1 - rf_log.oob_score_)"
   ]
  },
  {
   "cell_type": "code",
   "execution_count": 23,
   "id": "8dc99f70",
   "metadata": {},
   "outputs": [
    {
     "data": {
      "image/png": "[encoded data removed]",
      "text/plain": [
       "<Figure size 432x288 with 1 Axes>"
      ]
     },
     "metadata": {},
     "output_type": "display_data"
    }
   ],
   "source": [
    "plt.plot(depth_range, train_error, c='red', label='Training Error')\n",
    "plt.plot(depth_range, test_error, c='blue', label='Test Error')\n",
    "plt.plot(depth_range, oob_error, c='green', label='OOB Error')\n",
    "plt.ylabel('Errors')\n",
    "plt.xlabel('Depth of trees')\n",
    "plt.legend()\n",
    "plt.show()"
   ]
  },
  {
   "cell_type": "code",
   "execution_count": 24,
   "id": "c48c7f03",
   "metadata": {},
   "outputs": [
    {
     "data": {
      "image/png": "[encoded data removed]",
      "text/plain": [
       "<Figure size 432x288 with 1 Axes>"
      ]
     },
     "metadata": {},
     "output_type": "display_data"
    }
   ],
   "source": [
    "plt.plot(depth_range, train_r2, c='red', label='Training R^2')\n",
    "plt.plot(depth_range, test_r2, c='blue', label='Test R^2')\n",
    "plt.ylabel('R^2')\n",
    "plt.xlabel('Depth of trees')\n",
    "plt.legend()\n",
    "plt.show()"
   ]
  },
  {
   "cell_type": "code",
   "execution_count": null,
   "id": "030d0a23",
   "metadata": {},
   "outputs": [],
   "source": []
  }
 ],
 "metadata": {
  "kernelspec": {
   "display_name": "Python 3",
   "language": "python",
   "name": "python3"
  },
  "language_info": {
   "codemirror_mode": {
    "name": "ipython",
    "version": 3
   },
   "file_extension": ".py",
   "mimetype": "text/x-python",
   "name": "python",
   "nbconvert_exporter": "python",
   "pygments_lexer": "ipython3",
   "version": "3.8.8"
  }
 },
 "nbformat": 4,
 "nbformat_minor": 5
}
